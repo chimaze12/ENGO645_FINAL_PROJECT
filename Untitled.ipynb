{
 "cells": [
  {
   "cell_type": "code",
   "execution_count": 1,
   "id": "6f2266c1-238a-475d-bbd8-88007ca8861f",
   "metadata": {
    "tags": []
   },
   "outputs": [],
   "source": [
    "import geopandas as gpd\n",
    "import pandas as pd\n",
    "import numpy as np\n",
    "from pysal.model import spreg\n",
    "from pysal.lib import weights\n",
    "import statsmodels.api as sm\n",
    "\n",
    "# Load from Shapefile\n",
    "gdf_loaded = gpd.read_file(\"regression_gdf.shp\")\n"
   ]
  },
  {
   "cell_type": "code",
   "execution_count": 3,
   "id": "0b49a4e2-1147-4fa9-a392-d44e8eb9bc72",
   "metadata": {
    "tags": []
   },
   "outputs": [],
   "source": [
    "regression_gdf = gdf_loaded"
   ]
  },
  {
   "cell_type": "code",
   "execution_count": 4,
   "id": "2daf189b-7799-485a-9978-350eb25d8bfa",
   "metadata": {
    "tags": []
   },
   "outputs": [
    {
     "name": "stdout",
     "output_type": "stream",
     "text": [
      "<class 'geopandas.geodataframe.GeoDataFrame'>\n",
      "RangeIndex: 3043 entries, 0 to 3042\n",
      "Data columns (total 22 columns):\n",
      " #   Column      Non-Null Count  Dtype   \n",
      "---  ------      --------------  -----   \n",
      " 0   FIPS        3043 non-null   object  \n",
      " 1   GROCPTH16   3043 non-null   float64 \n",
      " 2   SUPERCPTH1  3043 non-null   float64 \n",
      " 3   FFRPTH11    3043 non-null   float64 \n",
      " 4   FFRPTH16    3043 non-null   float64 \n",
      " 5   PCT_DIABET  3043 non-null   float64 \n",
      " 6   PCT_OBESE_  3043 non-null   float64 \n",
      " 7   RECFACPTH1  3043 non-null   float64 \n",
      " 8   RECFACPT_1  3043 non-null   float64 \n",
      " 9   D_rate_per  3043 non-null   float64 \n",
      " 10  D_rate_p_1  3043 non-null   float64 \n",
      " 11  NAME        3043 non-null   object  \n",
      " 12  STATE_NAME  3043 non-null   object  \n",
      " 13  Urban_Rura  3043 non-null   object  \n",
      " 14  Obesity-20  3043 non-null   float64 \n",
      " 15  FMRKTPTH13  3043 non-null   float64 \n",
      " 16  PC_SNAPBEN  3043 non-null   float64 \n",
      " 17  GROCPTH11   3043 non-null   float64 \n",
      " 18  SPECSPTH11  3043 non-null   float64 \n",
      " 19  PCT_65OLDE  3043 non-null   float64 \n",
      " 20  POVRATE15   3043 non-null   float64 \n",
      " 21  geometry    3043 non-null   geometry\n",
      "dtypes: float64(17), geometry(1), object(4)\n",
      "memory usage: 523.1+ KB\n"
     ]
    }
   ],
   "source": [
    "regression_gdf.info()"
   ]
  },
  {
   "cell_type": "code",
   "execution_count": 5,
   "id": "1e624782-1c85-4cf1-ad7d-ab731a2b29cb",
   "metadata": {
    "tags": []
   },
   "outputs": [
    {
     "data": {
      "text/plain": [
       "0            Polygon\n",
       "1       MultiPolygon\n",
       "2            Polygon\n",
       "3            Polygon\n",
       "4            Polygon\n",
       "            ...     \n",
       "3038         Polygon\n",
       "3039         Polygon\n",
       "3040         Polygon\n",
       "3041         Polygon\n",
       "3042         Polygon\n",
       "Length: 3043, dtype: object"
      ]
     },
     "execution_count": 5,
     "metadata": {},
     "output_type": "execute_result"
    }
   ],
   "source": [
    "regression_gdf.type"
   ]
  },
  {
   "cell_type": "code",
   "execution_count": 6,
   "id": "f91ff6ce-05ef-4a40-bb37-f0a7e2168623",
   "metadata": {
    "tags": []
   },
   "outputs": [
    {
     "name": "stdout",
     "output_type": "stream",
     "text": [
      "True\n"
     ]
    }
   ],
   "source": [
    "# Assuming `gdf` is your DataFrame\n",
    "print(isinstance(regression_gdf, gpd.GeoDataFrame))"
   ]
  },
  {
   "cell_type": "code",
   "execution_count": 10,
   "id": "433e75e5-4dbd-41e0-9432-ffd66782c553",
   "metadata": {
    "tags": []
   },
   "outputs": [
    {
     "data": {
      "text/html": [
       "<div>\n",
       "<style scoped>\n",
       "    .dataframe tbody tr th:only-of-type {\n",
       "        vertical-align: middle;\n",
       "    }\n",
       "\n",
       "    .dataframe tbody tr th {\n",
       "        vertical-align: top;\n",
       "    }\n",
       "\n",
       "    .dataframe thead th {\n",
       "        text-align: right;\n",
       "    }\n",
       "</style>\n",
       "<table border=\"1\" class=\"dataframe\">\n",
       "  <thead>\n",
       "    <tr style=\"text-align: right;\">\n",
       "      <th></th>\n",
       "      <th>FIPS</th>\n",
       "      <th>GROCPTH16</th>\n",
       "      <th>SUPERCPTH1</th>\n",
       "      <th>FFRPTH11</th>\n",
       "      <th>FFRPTH16</th>\n",
       "      <th>PCT_DIABET</th>\n",
       "      <th>PCT_OBESE_</th>\n",
       "      <th>RECFACPTH1</th>\n",
       "      <th>RECFACPT_1</th>\n",
       "      <th>D_rate_per</th>\n",
       "      <th>...</th>\n",
       "      <th>STATE_NAME</th>\n",
       "      <th>Urban_Rura</th>\n",
       "      <th>Obesity-20</th>\n",
       "      <th>FMRKTPTH13</th>\n",
       "      <th>PC_SNAPBEN</th>\n",
       "      <th>GROCPTH11</th>\n",
       "      <th>SPECSPTH11</th>\n",
       "      <th>PCT_65OLDE</th>\n",
       "      <th>POVRATE15</th>\n",
       "      <th>geometry</th>\n",
       "    </tr>\n",
       "  </thead>\n",
       "  <tbody>\n",
       "    <tr>\n",
       "      <th>0</th>\n",
       "      <td>01001</td>\n",
       "      <td>0.054271</td>\n",
       "      <td>0.018090</td>\n",
       "      <td>0.615953</td>\n",
       "      <td>0.795977</td>\n",
       "      <td>13.0</td>\n",
       "      <td>36.3</td>\n",
       "      <td>0.072465</td>\n",
       "      <td>0.108542</td>\n",
       "      <td>318.7</td>\n",
       "      <td>...</td>\n",
       "      <td>Alabama</td>\n",
       "      <td>Urban</td>\n",
       "      <td>30.4</td>\n",
       "      <td>0.018277</td>\n",
       "      <td>18.471487</td>\n",
       "      <td>0.090581</td>\n",
       "      <td>0.018116</td>\n",
       "      <td>11.995382</td>\n",
       "      <td>12.7</td>\n",
       "      <td>POLYGON ((-86.41312 32.70739, -86.41300 32.678...</td>\n",
       "    </tr>\n",
       "    <tr>\n",
       "      <th>1</th>\n",
       "      <td>01003</td>\n",
       "      <td>0.139753</td>\n",
       "      <td>0.033733</td>\n",
       "      <td>0.648675</td>\n",
       "      <td>0.751775</td>\n",
       "      <td>10.4</td>\n",
       "      <td>36.3</td>\n",
       "      <td>0.085775</td>\n",
       "      <td>0.101200</td>\n",
       "      <td>278.1</td>\n",
       "      <td>...</td>\n",
       "      <td>Alabama</td>\n",
       "      <td>Urban</td>\n",
       "      <td>26.3</td>\n",
       "      <td>0.020525</td>\n",
       "      <td>15.890722</td>\n",
       "      <td>0.144746</td>\n",
       "      <td>0.107219</td>\n",
       "      <td>16.771185</td>\n",
       "      <td>12.9</td>\n",
       "      <td>MULTIPOLYGON (((-87.56491 30.28162, -87.56470 ...</td>\n",
       "    </tr>\n",
       "    <tr>\n",
       "      <th>2</th>\n",
       "      <td>01005</td>\n",
       "      <td>0.155195</td>\n",
       "      <td>0.038799</td>\n",
       "      <td>0.694673</td>\n",
       "      <td>0.892372</td>\n",
       "      <td>18.4</td>\n",
       "      <td>36.3</td>\n",
       "      <td>0.073123</td>\n",
       "      <td>0.000000</td>\n",
       "      <td>376.3</td>\n",
       "      <td>...</td>\n",
       "      <td>Alabama</td>\n",
       "      <td>Rural</td>\n",
       "      <td>37.5</td>\n",
       "      <td>0.111342</td>\n",
       "      <td>31.116222</td>\n",
       "      <td>0.219370</td>\n",
       "      <td>0.109685</td>\n",
       "      <td>14.236807</td>\n",
       "      <td>32.0</td>\n",
       "      <td>POLYGON ((-85.25784 32.14794, -85.25851 32.146...</td>\n",
       "    </tr>\n",
       "    <tr>\n",
       "      <th>3</th>\n",
       "      <td>01007</td>\n",
       "      <td>0.220916</td>\n",
       "      <td>0.044183</td>\n",
       "      <td>0.263794</td>\n",
       "      <td>0.309283</td>\n",
       "      <td>14.8</td>\n",
       "      <td>36.3</td>\n",
       "      <td>0.000000</td>\n",
       "      <td>0.044183</td>\n",
       "      <td>333.6</td>\n",
       "      <td>...</td>\n",
       "      <td>Alabama</td>\n",
       "      <td>Urban</td>\n",
       "      <td>30.5</td>\n",
       "      <td>0.044413</td>\n",
       "      <td>22.435049</td>\n",
       "      <td>0.263794</td>\n",
       "      <td>0.000000</td>\n",
       "      <td>12.681650</td>\n",
       "      <td>22.2</td>\n",
       "      <td>POLYGON ((-87.06574 33.24691, -87.06477 33.246...</td>\n",
       "    </tr>\n",
       "    <tr>\n",
       "      <th>4</th>\n",
       "      <td>01009</td>\n",
       "      <td>0.086863</td>\n",
       "      <td>0.017373</td>\n",
       "      <td>0.347451</td>\n",
       "      <td>0.399569</td>\n",
       "      <td>14.1</td>\n",
       "      <td>36.3</td>\n",
       "      <td>0.052118</td>\n",
       "      <td>0.069490</td>\n",
       "      <td>299.6</td>\n",
       "      <td>...</td>\n",
       "      <td>Alabama</td>\n",
       "      <td>Urban</td>\n",
       "      <td>30.1</td>\n",
       "      <td>0.017358</td>\n",
       "      <td>20.272305</td>\n",
       "      <td>0.121608</td>\n",
       "      <td>0.017373</td>\n",
       "      <td>14.722096</td>\n",
       "      <td>14.7</td>\n",
       "      <td>POLYGON ((-86.45302 34.25932, -86.45288 34.259...</td>\n",
       "    </tr>\n",
       "  </tbody>\n",
       "</table>\n",
       "<p>5 rows × 22 columns</p>\n",
       "</div>"
      ],
      "text/plain": [
       "    FIPS  GROCPTH16  SUPERCPTH1  FFRPTH11  FFRPTH16  PCT_DIABET  PCT_OBESE_  \\\n",
       "0  01001   0.054271    0.018090  0.615953  0.795977        13.0        36.3   \n",
       "1  01003   0.139753    0.033733  0.648675  0.751775        10.4        36.3   \n",
       "2  01005   0.155195    0.038799  0.694673  0.892372        18.4        36.3   \n",
       "3  01007   0.220916    0.044183  0.263794  0.309283        14.8        36.3   \n",
       "4  01009   0.086863    0.017373  0.347451  0.399569        14.1        36.3   \n",
       "\n",
       "   RECFACPTH1  RECFACPT_1  D_rate_per  ...  STATE_NAME Urban_Rura Obesity-20  \\\n",
       "0    0.072465    0.108542       318.7  ...     Alabama      Urban       30.4   \n",
       "1    0.085775    0.101200       278.1  ...     Alabama      Urban       26.3   \n",
       "2    0.073123    0.000000       376.3  ...     Alabama      Rural       37.5   \n",
       "3    0.000000    0.044183       333.6  ...     Alabama      Urban       30.5   \n",
       "4    0.052118    0.069490       299.6  ...     Alabama      Urban       30.1   \n",
       "\n",
       "  FMRKTPTH13  PC_SNAPBEN  GROCPTH11  SPECSPTH11  PCT_65OLDE  POVRATE15  \\\n",
       "0   0.018277   18.471487   0.090581    0.018116   11.995382       12.7   \n",
       "1   0.020525   15.890722   0.144746    0.107219   16.771185       12.9   \n",
       "2   0.111342   31.116222   0.219370    0.109685   14.236807       32.0   \n",
       "3   0.044413   22.435049   0.263794    0.000000   12.681650       22.2   \n",
       "4   0.017358   20.272305   0.121608    0.017373   14.722096       14.7   \n",
       "\n",
       "                                            geometry  \n",
       "0  POLYGON ((-86.41312 32.70739, -86.41300 32.678...  \n",
       "1  MULTIPOLYGON (((-87.56491 30.28162, -87.56470 ...  \n",
       "2  POLYGON ((-85.25784 32.14794, -85.25851 32.146...  \n",
       "3  POLYGON ((-87.06574 33.24691, -87.06477 33.246...  \n",
       "4  POLYGON ((-86.45302 34.25932, -86.45288 34.259...  \n",
       "\n",
       "[5 rows x 22 columns]"
      ]
     },
     "execution_count": 10,
     "metadata": {},
     "output_type": "execute_result"
    }
   ],
   "source": [
    "regression_gdf.head()"
   ]
  },
  {
   "cell_type": "code",
   "execution_count": 9,
   "id": "fc80c5a4-25b2-40bd-b878-0ec4272678e2",
   "metadata": {
    "tags": []
   },
   "outputs": [
    {
     "data": {
      "text/plain": [
       "Index(['FIPS', 'GROCPTH16', 'SUPERCPTH1', 'FFRPTH11', 'FFRPTH16', 'PCT_DIABET',\n",
       "       'PCT_OBESE_', 'RECFACPTH1', 'RECFACPT_1', 'D_rate_per', 'D_rate_p_1',\n",
       "       'NAME', 'STATE_NAME', 'Urban_Rura', 'Obesity-20', 'FMRKTPTH13',\n",
       "       'PC_SNAPBEN', 'GROCPTH11', 'SPECSPTH11', 'PCT_65OLDE', 'POVRATE15',\n",
       "       'geometry'],\n",
       "      dtype='object')"
      ]
     },
     "execution_count": 9,
     "metadata": {},
     "output_type": "execute_result"
    }
   ],
   "source": [
    "regression_gdf.columns"
   ]
  },
  {
   "cell_type": "code",
   "execution_count": 13,
   "id": "6b8b7d53-49ac-4c4a-b0c5-c81d58c2beb3",
   "metadata": {
    "tags": []
   },
   "outputs": [
    {
     "name": "stderr",
     "output_type": "stream",
     "text": [
      "C:\\Users\\Maze\\anaconda3\\Lib\\site-packages\\libpysal\\weights\\contiguity.py:347: UserWarning: The weights matrix is not fully connected: \n",
      " There are 2 disconnected components.\n",
      "  W.__init__(self, neighbors, ids=ids, **kw)\n"
     ]
    },
    {
     "name": "stdout",
     "output_type": "stream",
     "text": [
      "REGRESSION RESULTS\n",
      "------------------\n",
      "\n",
      "SUMMARY OF OUTPUT: MAXIMUM LIKELIHOOD SPATIAL LAG (METHOD = FULL)\n",
      "-----------------------------------------------------------------\n",
      "Data set            :     unknown\n",
      "Weights matrix      :     unknown\n",
      "Dependent Variable  :Obesity Rate                Number of Observations:        3043\n",
      "Mean dependent var  :     26.2172                Number of Variables   :           8\n",
      "S.D. dependent var  :      4.4319                Degrees of Freedom    :        3035\n",
      "Pseudo R-squared    :      0.3619\n",
      "Spatial Pseudo R-squared:  0.0607\n",
      "Log likelihood      :  -8304.1078\n",
      "Sigma-square ML     :     12.7778                Akaike info criterion :   16624.216\n",
      "S.E of regression   :      3.5746                Schwarz criterion     :   16672.380\n",
      "\n",
      "------------------------------------------------------------------------------------\n",
      "            Variable     Coefficient       Std.Error     z-Statistic     Probability\n",
      "------------------------------------------------------------------------------------\n",
      "            CONSTANT         9.30289         0.51571        18.03885         0.00000\n",
      "            FFRPTH11         0.81730         0.23927         3.41580         0.00064\n",
      "          SPECSPTH11         1.30502         0.97108         1.34389         0.17898\n",
      "          FMRKTPTH13        -1.12478         0.77594        -1.44957         0.14718\n",
      "           GROCPTH11        -1.86155         0.32765        -5.68155         0.00000\n",
      "          RECFACPTH1         1.17196         0.95546         1.22659         0.21998\n",
      "          PC_SNAPBEN         0.08393         0.00686        12.23305         0.00000\n",
      "      W_Obesity Rate         0.57613         0.01882        30.60710         0.00000\n",
      "------------------------------------------------------------------------------------\n",
      "Warning: Variable(s) ['const'] removed for being constant.\n",
      "================================ END OF REPORT =====================================\n"
     ]
    }
   ],
   "source": [
    "import geopandas as gpd\n",
    "import pandas as pd\n",
    "from pysal.lib import weights\n",
    "from pysal.model import spreg\n",
    "import statsmodels.api as sm\n",
    "\n",
    "# Load and clean data\n",
    "# Assuming 'regression_gdf' is already your GeoDataFrame loaded and cleaned appropriately\n",
    "\n",
    "# # Ensure Alaska and Hawaii are excluded if not already excluded\n",
    "# regression_gdf = regression_gdf[~regression_gdf['STATE_NAME'].isin(['Alaska', 'Hawaii'])]\n",
    "\n",
    "# # Drop rows with NaN values specifically in the SNAP variable if not done\n",
    "# regression_gdf = regression_gdf.dropna(subset=['PC_SNAPBEN12'])\n",
    "\n",
    "# Ensure the weights matrix is fully connected and specify use_index explicitly\n",
    "w = weights.Queen.from_dataframe(regression_gdf, use_index=False)\n",
    "w.transform = 'r'\n",
    "\n",
    "# Handling potential islands\n",
    "if w.islands:\n",
    "    regression_gdf = regression_gdf.loc[~regression_gdf.index.isin(w.islands)].reset_index(drop=True)\n",
    "    w = weights.Queen.from_dataframe(regression_gdf, use_index=False)\n",
    "    w.transform = 'r'\n",
    "\n",
    "# Ensure no islands remain\n",
    "assert len(w.islands) == 0, \"There are still islands in the weights matrix.\"\n",
    "\n",
    "# Setup for regression\n",
    "y = regression_gdf['Obesity-20'].values.reshape(-1, 1)  # Convert to numpy array\n",
    "X = regression_gdf[['FFRPTH11', 'SPECSPTH11', 'FMRKTPTH13', 'GROCPTH11', 'RECFACPTH1', 'PC_SNAPBEN']].astype(float)\n",
    "X = sm.add_constant(X)  # Add a constant for the regression intercept\n",
    "\n",
    "# Fit the Spatial Autoregressive Model\n",
    "model = spreg.ML_Lag(y, X.values, w=w, name_y='Obesity Rate', name_x=['const', 'FFRPTH11', 'SPECSPTH11', 'FMRKTPTH13', 'GROCPTH11', 'RECFACPTH1', 'PC_SNAPBEN'])\n",
    "print(model.summary)  # Access the summary property without calling it as a method\n"
   ]
  },
  {
   "cell_type": "code",
   "execution_count": null,
   "id": "45b729fc-d3e1-46b4-8451-a8d9d92275a8",
   "metadata": {},
   "outputs": [],
   "source": []
  }
 ],
 "metadata": {
  "kernelspec": {
   "display_name": "Python 3 (ipykernel)",
   "language": "python",
   "name": "python3"
  },
  "language_info": {
   "codemirror_mode": {
    "name": "ipython",
    "version": 3
   },
   "file_extension": ".py",
   "mimetype": "text/x-python",
   "name": "python",
   "nbconvert_exporter": "python",
   "pygments_lexer": "ipython3",
   "version": "3.11.5"
  }
 },
 "nbformat": 4,
 "nbformat_minor": 5
}
